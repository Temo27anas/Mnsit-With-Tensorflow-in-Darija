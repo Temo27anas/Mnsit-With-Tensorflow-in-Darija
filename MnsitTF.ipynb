{
  "nbformat": 4,
  "nbformat_minor": 0,
  "metadata": {
    "colab": {
      "name": "MnsitTF.ipynb",
      "provenance": [],
      "authorship_tag": "ABX9TyPYuRRACsdLWDOer4fqAr1j",
      "include_colab_link": true
    },
    "kernelspec": {
      "name": "python3",
      "display_name": "Python 3"
    }
  },
  "cells": [
    {
      "cell_type": "markdown",
      "metadata": {
        "id": "view-in-github",
        "colab_type": "text"
      },
      "source": [
        "<a href=\"https://colab.research.google.com/github/Temo27anas/Mnsit-With-Tensorflow-in-Darija/blob/main/MnsitTF.ipynb\" target=\"_parent\"><img src=\"https://colab.research.google.com/assets/colab-badge.svg\" alt=\"Open In Colab\"/></a>"
      ]
    },
    {
      "cell_type": "markdown",
      "metadata": {
        "id": "sRC_dbaeZgOo"
      },
      "source": [
        "Salam. Lyouma ghndiro wahd projet classique bazaf , lihowa ImageClasification b Tensorflow o ghnst3mlo Mnsit Data li kiwafaro lina "
      ]
    },
    {
      "cell_type": "markdown",
      "metadata": {
        "id": "iyk_bCuVUPCo"
      },
      "source": [
        "Imortit Tensorflow"
      ]
    },
    {
      "cell_type": "code",
      "metadata": {
        "id": "juMPycfpULhf"
      },
      "source": [
        "import tensorflow as tf   "
      ],
      "execution_count": null,
      "outputs": []
    },
    {
      "cell_type": "markdown",
      "metadata": {
        "id": "k6oUiulqUN8x"
      },
      "source": [
        "Importit Data (Mnsit) o qsmt 3la MaxValue=255.0 bach nsghrha + bach nrj3ha Float  "
      ]
    },
    {
      "cell_type": "code",
      "metadata": {
        "id": "0ZOcLUZuUMoM"
      },
      "source": [
        "mnist = tf.keras.datasets.mnist\r\n",
        "(x_train, y_train), (x_test, y_test) = mnist.load_data()\r\n",
        "#print(x_train[2])\r\n",
        "#print('####################################################################')\r\n",
        "x_train, x_test = x_train / 255.0, x_test / 255.0\r\n",
        "#print(x_train[2])\r\n"
      ],
      "execution_count": null,
      "outputs": []
    }
  ]
}